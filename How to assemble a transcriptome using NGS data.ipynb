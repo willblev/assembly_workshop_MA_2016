{
 "cells": [
  {
   "cell_type": "markdown",
   "metadata": {},
   "source": [
    "# Introduction\n",
    "*Sequencing* is the process of identifying the order of the individual components in a chain of molecules eg. nucleotides in RNA/DNA or amino acids in proteins. Sequencing plays an important role in diverse fields including forensics, evolutionary biology, pharmacology, oncology, and many more. Nucleic acid sequencing is not exactly a *new* technology; scientists have been using various methods of nucleotide sequencing since the 1970s. To learn more about the history sequencing technology, [read more here](http://www.sciencedirect.com/science/article/pii/S0888754315300410).\n",
    "\n",
    "Have you ever worked with sequencing data before? If your answer was 'Yes', what were you trying to find? How was the data organized? Where did it come from? If your answer was 'No', get ready to try something new!\n",
    "## Next Generation Sequencing (NGS)\n",
    "Next generation sequencing [also known as  \n",
    "\n",
    "## Methods\n",
    "1. First you need to download and install the following programs:\n",
    "* [FastQC 0.11.5 for Linux](http://www.bioinformatics.babraham.ac.uk/projects/fastqc/fastqc_v0.11.5.zip) or [FastQC 0.11.5 for OSX (Mac)](http://www.bioinformatics.babraham.ac.uk/projects/fastqc/fastqc_v0.11.5.dmg)\n",
    "* [Trimmomatic 0.67](http://www.usadellab.org/cms/uploads/supplementary/Trimmomatic/Trimmomatic-0.36.zip)\n",
    "* [Bowtie2 2.2.9 for Linux](https://sourceforge.net/projects/bowtie-bio/files/bowtie2/2.2.9/bowtie2-2.2.9-linux-x86_64.zip/download) or [Bowtie2 2.2.9 for OSX (Mac)](https://sourceforge.net/projects/bowtie-bio/files/bowtie2/2.2.9/bowtie2-2.2.9-macos-x86_64.zip/download)\n",
    "* [Cufflinks 2.2.1 for Linux](http://cole-trapnell-lab.github.io/cufflinks/assets/downloads/cufflinks-2.2.1.Linux_x86_64.tar.gz)  or [Cufflinks 2.2.1 for OSX (Mac)](http://cole-trapnell-lab.github.io/cufflinks/assets/downloads/cufflinks-2.2.1.OSX_x86_64.tar.gz)  \n",
    "\n",
    "3. Install the programs (don't forget to update your source in terminal with   ``` source ~/.bashrc```   after you have installed the programs.\n",
    "4. etc.\n",
    "## Potential problems and pitfalls\n",
    "blah blah blah\n",
    "## etc."
   ]
  },
  {
   "cell_type": "markdown",
   "metadata": {},
   "source": [
    "# 1. The fastq/fq file format"
   ]
  },
  {
   "cell_type": "code",
   "execution_count": null,
   "metadata": {
    "collapsed": true
   },
   "outputs": [],
   "source": []
  },
  {
   "cell_type": "markdown",
   "metadata": {},
   "source": [
    "# 2. Quality control with *FastQC*"
   ]
  },
  {
   "cell_type": "code",
   "execution_count": null,
   "metadata": {
    "collapsed": true
   },
   "outputs": [],
   "source": []
  },
  {
   "cell_type": "markdown",
   "metadata": {},
   "source": [
    "# 3. Trimming RNAseq reads with *Trimmomatic*"
   ]
  },
  {
   "cell_type": "code",
   "execution_count": null,
   "metadata": {
    "collapsed": true
   },
   "outputs": [],
   "source": []
  },
  {
   "cell_type": "markdown",
   "metadata": {},
   "source": [
    "# 4. Mapping RNAseq reads to the reference genome with *Bowtie2*"
   ]
  },
  {
   "cell_type": "code",
   "execution_count": null,
   "metadata": {
    "collapsed": true
   },
   "outputs": [],
   "source": []
  },
  {
   "cell_type": "markdown",
   "metadata": {},
   "source": [
    "# 5. Assembling the mapped reads into a transcriptome with *Cufflinks*"
   ]
  },
  {
   "cell_type": "code",
   "execution_count": null,
   "metadata": {
    "collapsed": true
   },
   "outputs": [],
   "source": []
  },
  {
   "cell_type": "markdown",
   "metadata": {},
   "source": [
    "# 6. etc"
   ]
  }
 ],
 "metadata": {
  "kernelspec": {
   "display_name": "Python 3",
   "language": "python",
   "name": "python3"
  },
  "language_info": {
   "codemirror_mode": {
    "name": "ipython",
    "version": 3
   },
   "file_extension": ".py",
   "mimetype": "text/x-python",
   "name": "python",
   "nbconvert_exporter": "python",
   "pygments_lexer": "ipython3",
   "version": "3.5.2"
  }
 },
 "nbformat": 4,
 "nbformat_minor": 0
}

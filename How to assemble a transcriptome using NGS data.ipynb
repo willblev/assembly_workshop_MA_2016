{
 "cells": [
  {
   "cell_type": "markdown",
   "metadata": {},
   "source": [
    "# How to use this tutorial\n",
    "All hyperlinks are [clickable](IMG1.jpg \"What happened to the curious cat?\"), text in <span title=\"This tutorial was written in Jupyter (iPython notebook) and rendered on Github.\"><b>bold</b></span> can have hovertext with additional information, and all code can be run in a Unix shell (Bash) terminal. \n",
    "\n",
    "# Introduction\n",
    "<span title=\"The process of identifying the order of the individual components in a chain of molecules eg. nucleotides in RNA/DNA or amino acids in proteins.\"><b>Sequencing</b></span> plays an important role in diverse fields including *but not limited to* forensics, evolutionary biology, pharmacology, ecology, and oncology. Nucleic acid sequencing is not exactly a *new* technology; scientists have been using various methods of nucleotide sequencing since the 1970s. [Click here](http://www.sciencedirect.com/science/article/pii/S0888754315300410) to learn more about the history sequencing technology.\n",
    "\n",
    "Have you ever worked with sequencing data before? If your answer was 'Yes', what were you trying to find? How was the data organized? Where did it come from? If your answer was 'No', get ready to try something new!\n",
    "\n",
    "In this tutorial we are going to be working with the model organism *Saccharomyces cerevisiae*. As *S. cerevisiae* is a very well-studied organism, <span title=\"This isn't always a good idea; depending on your research objectives, you may need to consider which criteria were used to decide which features go in the reference annotations and what was discarded.\"><b>we will assume</b></span> that the reference genome & assembly are mostly correct and complete.\n",
    "\n",
    "What kind of organism is *S. cerevisiae*? *S. cerevisiae* is a budding yeast; a <span title=\"It is simple in that yeast is among the easiest organisms to grow in a laboratory setting. It is only biologically simple relative to other multicellular eukaryotes like H. sapiens\"><b>simple</b></span> eukaryote with 16 chromosomes and <span title=\"According to yeastgenome.org, there are 5155 'validated' ORFs. According to the NCBI, there are 6350 genes.\"><b>~6000 genes</b></span>. \n",
    "## Next Generation Sequencing (NGS)\n",
    "Next generation sequencing [also known as  \n",
    "\n",
    "\n",
    "## Methods\n",
    "First you need to download and install the following programs:\n",
    "* [FastQC 0.11.5 for Linux](http://www.bioinformatics.babraham.ac.uk/projects/fastqc/fastqc_v0.11.5.zip) or [FastQC 0.11.5 for OSX (Mac)](http://www.bioinformatics.babraham.ac.uk/projects/fastqc/fastqc_v0.11.5.dmg)\n",
    "* [Trimmomatic 0.67](http://www.usadellab.org/cms/uploads/supplementary/Trimmomatic/Trimmomatic-0.36.zip)\n",
    "* [Bowtie2 2.2.9 for Linux](https://sourceforge.net/projects/bowtie-bio/files/bowtie2/2.2.9/bowtie2-2.2.9-linux-x86_64.zip/download) or [Bowtie2 2.2.9 for OSX (Mac)](https://sourceforge.net/projects/bowtie-bio/files/bowtie2/2.2.9/bowtie2-2.2.9-macos-x86_64.zip/download)\n",
    "* [Cufflinks 2.2.1 for Linux](http://cole-trapnell-lab.github.io/cufflinks/assets/downloads/cufflinks-2.2.1.Linux_x86_64.tar.gz)  or [Cufflinks 2.2.1 for OSX (Mac)](http://cole-trapnell-lab.github.io/cufflinks/assets/downloads/cufflinks-2.2.1.OSX_x86_64.tar.gz)  \n",
    "\n",
    "\n",
    "## Potential problems and pitfalls\n",
    "\n",
    "\n",
    "\n"
   ]
  },
  {
   "cell_type": "markdown",
   "metadata": {},
   "source": [
    "<span title=\"\"><b> </b></span>"
   ]
  },
  {
   "cell_type": "markdown",
   "metadata": {},
   "source": [
    "# 1. Download your reference genome and annotations"
   ]
  },
  {
   "cell_type": "code",
   "execution_count": 2,
   "metadata": {
    "collapsed": false
   },
   "outputs": [
    {
     "data": {
      "application/javascript": [
       "IPython.notebook.config.update({\n",
       "  \"load_extensions\": {\"calico-spell-check\":true,\n",
       "                      \"calico-document-tools\":true,\n",
       "                      \"calico-cell-tools\":true\n",
       "                     }\n",
       "})"
      ],
      "text/plain": [
       "<IPython.core.display.Javascript object>"
      ]
     },
     "metadata": {},
     "output_type": "display_data"
    }
   ],
   "source": [
    "%%bash\n",
    "#Download the reference genome and annotations for Saccharomyces cerevisiae (S288c)\n",
    "wget ftp://ftp.ncbi.nlm.nih.gov/genomes/all/GCF_000146045.2_R64/GCF_000146045.2_R64_genomic.fna.gz \n",
    "wget ftp://ftp.ncbi.nlm.nih.gov/genomes/all/GCF_000146045.2_R64/GCF_000146045.2_R64_genomic.gff.gz\n",
    "#Unzip the files\n",
    "gunzip GCF_000146045.2_R64_genomic*\n",
    "#Rename the files with names are easier to remember\n",
    "mv GCF_000146045.2_R64_genomic.fna s_cerevisiae.fasta\n",
    "mv GCF_000146045.2_R64_genomic.gff s_cerevisiae.gff"
   ]
  },
  {
   "cell_type": "markdown",
   "metadata": {},
   "source": [
    "Due to the time constraints, we're not going to do our analysis on the whole genome. We will work exclusively with chomosome 10 (ChrX). The Fasta file *s_cerevisiae.fasta* contains the sequences of all 16 chromosomes, but we only need chromosome 10. How would you make a new file called *s_cerevisiae_chr10.fasta* that only contains chromosome 10?"
   ]
  },
  {
   "cell_type": "markdown",
   "metadata": {
    "collapsed": false
   },
   "source": [
    "%"
   ]
  },
  {
   "cell_type": "markdown",
   "metadata": {},
   "source": [
    "# 2. Quality control with *FastQC*"
   ]
  },
  {
   "cell_type": "code",
   "execution_count": null,
   "metadata": {
    "collapsed": true
   },
   "outputs": [],
   "source": []
  },
  {
   "cell_type": "markdown",
   "metadata": {},
   "source": [
    "# 3. Trimming RNAseq reads with *Trimmomatic*"
   ]
  },
  {
   "cell_type": "code",
   "execution_count": null,
   "metadata": {
    "collapsed": true
   },
   "outputs": [],
   "source": []
  },
  {
   "cell_type": "markdown",
   "metadata": {},
   "source": [
    "# 4. Mapping RNAseq reads to the reference genome with *Bowtie2*"
   ]
  },
  {
   "cell_type": "code",
   "execution_count": null,
   "metadata": {
    "collapsed": true
   },
   "outputs": [],
   "source": []
  },
  {
   "cell_type": "markdown",
   "metadata": {},
   "source": [
    "# 5. Assembling the mapped reads into a transcriptome with *Cufflinks*"
   ]
  },
  {
   "cell_type": "code",
   "execution_count": null,
   "metadata": {
    "collapsed": true
   },
   "outputs": [],
   "source": [
    "%%bash\n",
    "##Run Cufflinks2\n",
    "##DESCRIPTION:transcript assembly (Cufflinks2)\n",
    "\n",
    "### What do you want the files created by this script to be called? (short and descriptive)\n",
    "export BASE_NAME_OF_OUTPUT_FILES=\"s_cerevisiae_cufflinks2\"\n",
    "export REFERENCE_GENOME=\"<dir>/s_cerevisiae.fasta\"\n",
    "export REFERENCE_PROTEOME=\"/projects_eg/projects/william/testing_assemblies/all_assemblers/saccharomyces_cerevisiae_chrI_CDS_proteome.fa\"\n",
    "export REFERENCE_ANNOTATION=\"/projects_eg/projects/william/testing_assemblies/all_assemblers/saccharomyces_cerevisiae_chrI_CDS.gff\"\n",
    "export READ_1=\"/projects_eg/projects/william/raw_fastq_normal/s_cerevisiae/trimmomatic/read1_paired.fastq\"\n",
    "export READ_2=\"/projects_eg/projects/william/raw_fastq_normal/s_cerevisiae/trimmomatic/read2_paired.fastq\"\n",
    "export BAM_FILE=\"paired_mapped_SGD_chrI.bam\"\n",
    "\n",
    "\n",
    "#$ -q normal\n",
    "#$ -N cufflink\n",
    "#$ -cwd\n",
    "#$ -e .\n",
    "#$ -o .\n",
    "#$ -pe serial 4\n",
    "\n",
    "##location of programs on cluster (bowtie, bowtie-build,samtools, cufflinks, etc.)\n",
    "export PATH=/soft/bio/sequence/samtools-0.1.18/:$PATH\n",
    "export PATH=/soft/bio/sequence/bedtools-2.17.0/bin/:$PATH\n",
    "export PATH=/soft/bio/sequence/cufflinks-2.2.0/:$PATH\n",
    "export PATH=/soft/bio/sequence/bowtie2-2.2.3/:$PATH\n",
    "\n",
    "export PATH=/soft/bio/sequence/transrate-1.0.0.beta3:$PATH\n",
    "#dependencies\n",
    "export PATH=/soft/bio/sequence/ncbi-blast-2.2.29+/bin:$PATH\n",
    "export PATH=/soft/bio/sequence/SalmonBeta-v0.3.0/bin:$PATH\n",
    "export PATH=/soft/bio/sequence/bam-read-1.0:$PATH\n",
    "export PATH=/soft/bio/sequence/snap_v1.0:$PATH\n",
    "\n",
    "\n",
    "#######################\n",
    "\n",
    "#cufflinks $BAM_FILE -p 4 --frag-bias-correct $REFERENCE_GENOME --multi-read-correct --library-type fr-firststrand -o $BASE_NAME_OF_OUTPUT_FILES \\\n",
    "#--upper-quartile-norm --total-hits-norm --max-mle-iterations 6000 --max-bundle-frags 999999999 --frag-len-std-dev 86 --frag-len-mean 227 \\\n",
    "#--label $BASE_NAME_OF_OUTPUT_FILES --max-bundle-length 4000000 --min-frags-per-transfrag 20 --min-isoform-fraction .05 --min-intron-length 13 --max-intron-length 1001 --trim-3-avgcov-thresh 5 --trim-3-dropoff-frac 0.2 --max-multiread-fraction 0.33 --overlap-radius 1 \\\n",
    "\n",
    "cufflinks $BAM_FILE -p 4 --frag-bias-correct $REFERENCE_GENOME -g $REFERENCE_ANNOTATION --3-overhang-tolerance 120 --multi-read-correct --library-type fr-firststrand -o $BASE_NAME_OF_OUTPUT_FILES \\\n",
    "--upper-quartile-norm --total-hits-norm --max-mle-iterations 6000 --max-bundle-frags 999999999 --frag-len-std-dev 86 --frag-len-mean 227 \\\n",
    "--label $BASE_NAME_OF_OUTPUT_FILES --max-bundle-length 4000000 --min-frags-per-transfrag 20 --min-isoform-fraction .05 --min-intron-length 13 --max-intron-length 1001 --trim-3-avgcov-thresh 5 --trim-3-dropoff-frac 0.2 --max-multiread-fraction 0.33 --overlap-radius 1 \\\n",
    "\n",
    "\n",
    "\n",
    "\n",
    "\n",
    "#create FASTA sequences from generated transcripts (for quality assesment with TransRate and for BLASTing)\n",
    "gffread -w $BASE_NAME_OF_OUTPUT_FILES.fa -g $REFERENCE_GENOME  $BASE_NAME_OF_OUTPUT_FILES/transcripts.gtf\n",
    "gffread -w $BASE_NAME_OF_OUTPUT_FILES.guided.fa -g $REFERENCE_GENOME  $BASE_NAME_OF_OUTPUT_FILES.guided/transcripts.gtf\n",
    "\n",
    "\n",
    "#compare with reference genome\n",
    "#cuffcompare -r $REFERENCE_ANNOTATION $BASE_NAME_OF_OUTPUT_FILES/transcripts.gtf -o cmp_$BASE_NAME_OF_OUTPUT_FILES\n",
    "\n",
    "#assess quality of assembly\n",
    "#transrate --assembly $BASE_NAME_OF_OUTPUT_FILES.fa --reference $REFERENCE_PROTEOME --threads 4 -o $BASE_NAME_OF_OUTPUT_FILES -l $READ_1 -i $READ_2\n"
   ]
  },
  {
   "cell_type": "markdown",
   "metadata": {},
   "source": [
    "# 6. etc"
   ]
  }
 ],
 "metadata": {
  "kernelspec": {
   "display_name": "Python 3",
   "language": "python",
   "name": "python3"
  },
  "language_info": {
   "codemirror_mode": {
    "name": "ipython",
    "version": 3
   },
   "file_extension": ".py",
   "mimetype": "text/x-python",
   "name": "python",
   "nbconvert_exporter": "python",
   "pygments_lexer": "ipython3",
   "version": "3.5.2"
  }
 },
 "nbformat": 4,
 "nbformat_minor": 0
}
